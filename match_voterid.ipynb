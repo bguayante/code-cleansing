{
 "cells": [
  {
   "cell_type": "code",
   "execution_count": 1,
   "id": "741e2f68-862e-4335-bdb1-d950a13a1506",
   "metadata": {},
   "outputs": [],
   "source": [
    "import glob\n",
    "import pandas as pd\n",
    "import numpy as np\n",
    "import re\n",
    "import csv"
   ]
  },
  {
   "cell_type": "code",
   "execution_count": 2,
   "id": "3a0e72f0-99d9-4991-a015-f1fb20a12f85",
   "metadata": {},
   "outputs": [],
   "source": [
    "input_df = pd.read_csv(\"data/input/eng-matching-input-v3.csv\", dtype=str)\n",
    "input_df.fillna('', inplace=True)\n",
    "input_df[\"matched_voterid\"] = ''"
   ]
  },
  {
   "cell_type": "code",
   "execution_count": 3,
   "id": "851e7864-2e5e-49af-afad-aacd6bdd43c9",
   "metadata": {},
   "outputs": [],
   "source": [
    "sos_files = glob.glob(\"data/input/*.txt\")\n",
    "\n",
    "frames = []\n",
    "\n",
    "for file in sos_files:\n",
    "    df = pd.read_csv(file, dtype=str)\n",
    "    frames.append(df)\n",
    "\n",
    "agg_sos_records_df = pd.concat(frames, ignore_index=True)\n",
    "\n",
    "master_sos_df = agg_sos_records_df[['SOS_VOTERID', 'LAST_NAME', 'FIRST_NAME', 'MIDDLE_NAME', 'SUFFIX', 'DATE_OF_BIRTH', \n",
    "                           'RESIDENTIAL_ADDRESS1', 'RESIDENTIAL_CITY', 'RESIDENTIAL_ZIP', 'RESIDENTIAL_STATE']]"
   ]
  },
  {
   "cell_type": "code",
   "execution_count": 4,
   "id": "62d1093c-7a0a-4b5e-8d41-f51ce2713a3e",
   "metadata": {
    "tags": []
   },
   "outputs": [],
   "source": [
    "sos_df = master_sos_df.fillna('')\n",
    "sos_df['name'] = sos_df.apply(lambda x : x['FIRST_NAME'] + ' ' + x['LAST_NAME'], axis=1)\n",
    "sos_df['birth_year'] = (pd.to_datetime(sos_df['DATE_OF_BIRTH']).dt.year).astype(int)\n",
    "sos_df['row'] = ''\n",
    "\n",
    "# standardize column names between input csv and sos voter datasets\n",
    "rename_cols = {\n",
    "    \"RESIDENTIAL_ZIP\": \"zip\",\n",
    "    \"RESIDENTIAL_ADDRESS1\": \"address\",\n",
    "    \"RESIDENTIAL_CITY\": \"city\",\n",
    "    \"RESIDENTIAL_STATE\": \"state\",\n",
    "    \"SOS_VOTERID\": \"sos_voterid\"\n",
    "}\n",
    "\n",
    "sos_df.rename(columns=rename_cols, inplace=True)\n",
    "\n",
    "# mask all columns except those present in input_df\n",
    "sos_df = sos_df[[\"row\", \"name\", \"birth_year\", \"address\", \"city\", \"state\", \"zip\", \"sos_voterid\"]]\n",
    "\n",
    "string_cols = [\"name\", \"address\", \"city\", \"state\"]\n",
    "for col in string_cols:\n",
    "    sos_df[col] = sos_df[col].apply(lambda x : x.upper())\n",
    "\n",
    "# remove middle initials where present\n",
    "frames = [sos_df,input_df]\n",
    "for frame in frames:\n",
    "    frame[\"name\"] = frame[\"name\"].apply(lambda x : re.sub(r'\\s.\\s', ' ', x))\n",
    "    for col in string_cols:\n",
    "        frame[col] = frame[col].apply(lambda x : x.upper())\n",
    "\n",
    "merged_df = pd.concat([input_df, sos_df], ignore_index=True)"
   ]
  },
  {
   "cell_type": "code",
   "execution_count": 5,
   "id": "55a27ee1-5f79-46e8-b1bc-74234a7285b1",
   "metadata": {},
   "outputs": [],
   "source": [
    "# remove unreasonable values for year_of_birth\n",
    "# faster to cast value to int than datetime object, get same result\n",
    "merged_df[\"birth_year\"].replace({'':0}, inplace=True)\n",
    "merged_df[\"birth_year\"] = merged_df[\"birth_year\"].astype(int)\n",
    "merged_df[\"birth_year\"] = merged_df[\"birth_year\"].apply(lambda x : int(x) if (1920 <= x <= 2004) else 0)\n",
    "\n",
    "# transform all strings to upper to standardize casing\n",
    "string_cols = [\"name\", \"address\", \"city\", \"state\"]\n",
    "for col in string_cols:\n",
    "    merged_df[col] = merged_df[col].str.upper()\n",
    "    \n",
    "# standardize abbrev for common address suffixes\n",
    "replace_add = {\n",
    "    \"STREET\": \"ST\",\n",
    "    \"AVENUE\": \"AVE\",\n",
    "    \"AV\": \"AVE\",\n",
    "    \"DRIVE\": \"DR\",\n",
    "    \"ROAD\": \"RD\",\n",
    "    \"CIRCLE\": \"CR\",\n",
    "    \"STATE ROUTE\": \"ST RT\"\n",
    "}\n",
    "\n",
    "# From https://stackoverflow.com/a/51537735\n",
    "pat = {r'\\b{}\\b'.format(k):v for k, v in replace_add.items()}\n",
    "merged_df[\"address\"].replace(to_replace=pat, regex=True, inplace=True)\n",
    "\n",
    "# remove middle initials where present\n",
    "merged_df[\"name\"] = merged_df[\"name\"].apply(lambda x : re.sub(r'\\s.\\s', ' ', x))"
   ]
  },
  {
   "cell_type": "code",
   "execution_count": 6,
   "id": "7331b2a9-5ed3-451e-8445-04301441c200",
   "metadata": {},
   "outputs": [],
   "source": [
    "match_df = pd.DataFrame(columns=merged_df.columns)\n",
    "\n",
    "# get duplicate records. All input_df rows should be (and are) present in new df\n",
    "match_df = merged_df[merged_df.duplicated(subset=[\"birth_year\",\"name\"], keep=False) == True]\n",
    "match_df = match_df.fillna('')"
   ]
  },
  {
   "cell_type": "code",
   "execution_count": 7,
   "id": "c6c16460-45e9-4a7d-bdd2-b60a0836e1da",
   "metadata": {},
   "outputs": [],
   "source": [
    "for index, x in match_df.iterrows():\n",
    "    # if the row has a value for \"row\", it matches a row in input_df\n",
    "    if x[\"row\"] != '':\n",
    "        # get its matching row (should be 1 max), add it and match to temp_df\n",
    "        temp_df = match_df[(match_df[\"name\"] == x[\"name\"]) & (match_df[\"birth_year\"] == x[\"birth_year\"])].fillna('')\n",
    "        # merge rows (one has value in \"row\", the other has value in \"sos_voterid\")\n",
    "        temp_df = temp_df.max(numeric_only=False).to_frame().transpose()\n",
    "        # copy values in \"row\" and \"sos_voterid\" columns\n",
    "        row = temp_df[\"row\"][0]\n",
    "        v_id = temp_df[\"sos_voterid\"][0]\n",
    "        # find record in input_df with matching value in \"row\"\n",
    "        idx = input_df.index[input_df[\"row\"] == row]\n",
    "        # assign value of temp_df[\"sos_voterid\"] to input_df[\"matched_voterid\"]\n",
    "        input_df[\"matched_voterid\"].iloc[idx] = v_id"
   ]
  },
  {
   "cell_type": "code",
   "execution_count": 8,
   "id": "55e4af2c-f9fa-4677-8e7f-631bead8441f",
   "metadata": {},
   "outputs": [],
   "source": [
    "input_df.to_csv(\"data/oh_matched_voterids.csv\", index=False)"
   ]
  }
 ],
 "metadata": {
  "kernelspec": {
   "display_name": "Python 3 (ipykernel)",
   "language": "python",
   "name": "python3"
  },
  "language_info": {
   "codemirror_mode": {
    "name": "ipython",
    "version": 3
   },
   "file_extension": ".py",
   "mimetype": "text/x-python",
   "name": "python",
   "nbconvert_exporter": "python",
   "pygments_lexer": "ipython3",
   "version": "3.10.2"
  }
 },
 "nbformat": 4,
 "nbformat_minor": 5
}
